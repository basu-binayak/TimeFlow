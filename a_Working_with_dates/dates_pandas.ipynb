{
 "cells": [
  {
   "cell_type": "markdown",
   "id": "ef24ab30-4f14-4795-b897-9d34727ca76e",
   "metadata": {},
   "source": [
    "# A. Python's datetime.datetime class and pandas' Timestamp and DatetimeIndex classes\n",
    "\n",
    "The relationship between Python's `datetime.datetime` class and pandas' `Timestamp` and `DatetimeIndex` classes revolves around how pandas extends and optimizes the functionality of Python's built-in datetime for handling date and time data in a more efficient and powerful way."
   ]
  },
  {
   "cell_type": "code",
   "execution_count": 1,
   "id": "f477befe-57e1-49c9-b0e7-9d457e44cdc2",
   "metadata": {},
   "outputs": [],
   "source": [
    "# import the libraries \n",
    "import pandas as pd\n",
    "import numpy as np\n",
    "import datetime as datetime\n",
    "import matplotlib.pyplot as plt\n",
    "import seaborn as sns\n",
    "sns.set_style('darkgrid')\n",
    "\n",
    "%matplotlib inline"
   ]
  },
  {
   "cell_type": "markdown",
   "id": "7ea09bd5-a8a1-448b-84b5-2901cdd4eb5e",
   "metadata": {},
   "source": [
    "`datetime.datetime`:\n",
    "\n",
    "This is a built-in Python class for representing date and time. It provides basic functionalities for date and time arithmetic, comparisons, and formatting. It is **part of the datetime module** and can be created with a specific date and time."
   ]
  },
  {
   "cell_type": "code",
   "execution_count": 3,
   "id": "f69057ac-edf2-4cac-87b5-fe83b039a402",
   "metadata": {},
   "outputs": [
    {
     "name": "stdout",
     "output_type": "stream",
     "text": [
      "The date is given by : 2024-09-03 17:52:44\n",
      "The type of the variable, date_1, is: <class 'datetime.datetime'>\n",
      "Is date_1 an instance of the datetime.datetime class? True\n"
     ]
    }
   ],
   "source": [
    "date_1 = datetime.datetime(2024, 9, 3, 17, 52, 44)\n",
    "print(f'The date is given by : {date_1}')\n",
    "print(f'The type of the variable, date_1, is: {type(date_1)}')\n",
    "print(f'Is date_1 an instance of the datetime.datetime class? {isinstance(date_1,datetime.datetime)}')"
   ]
  },
  {
   "cell_type": "markdown",
   "id": "3c0a837d-73f4-49c3-9873-b52b4714f722",
   "metadata": {},
   "source": [
    "`pandas.Timestamp`:\n",
    "\n",
    "`pandas.Timestamp` is essentially pandas equivalent of `datetime.datetime`, but it is **more powerful and optimized for use with pandas data structures**. \n",
    "\n",
    "**Timestamp is built on top of `datetime.datetime` but includes additional features**, such as:\n",
    "- **Nanosecond precision**: Unlike datetime.datetime, which typically handles microseconds, pandas.Timestamp can handle nanosecond-level precision.\n",
    "- **Compatibility**: pandas.Timestamp is fully compatible with `datetime.datetime` and can be used interchangeably in most cases.\n",
    "- **Additional Methods**: Provides many additional methods for accessing different components of the date (like .month, .day, .year), time zones handling (tz_localize, tz_convert), and date offsets (floor, ceil, round)."
   ]
  },
  {
   "cell_type": "code",
   "execution_count": 3,
   "id": "142e0420-df0d-43fd-b6ad-5196946787a0",
   "metadata": {},
   "outputs": [
    {
     "name": "stdout",
     "output_type": "stream",
     "text": [
      "The date is given by : 2024-09-03 17:52:44\n",
      "The type of the variable, date_2, is: <class 'pandas._libs.tslibs.timestamps.Timestamp'>\n",
      "Is date_2 an instance of the pd.Timestamp class? True\n"
     ]
    }
   ],
   "source": [
    "# convert the datetime.datetime object to a pd.Timestamp object\n",
    "date_2 = pd.Timestamp(date_1)\n",
    "print(f'The date is given by : {date_2}')\n",
    "print(f'The type of the variable, date_2, is: {type(date_2)}')\n",
    "print(f'Is date_2 an instance of the pd.Timestamp class? {isinstance(date_2,pd.Timestamp)}')"
   ]
  },
  {
   "cell_type": "code",
   "execution_count": 4,
   "id": "fad58766-64f4-43f7-ad3d-8059dea864cb",
   "metadata": {},
   "outputs": [
    {
     "data": {
      "text/plain": [
       "True"
      ]
     },
     "execution_count": 4,
     "metadata": {},
     "output_type": "execute_result"
    }
   ],
   "source": [
    "# We have created two instances of different classes. Are they equal?\n",
    "date_1 == date_2"
   ]
  },
  {
   "cell_type": "code",
   "execution_count": 5,
   "id": "6ad9cee9-642f-4f68-8c9c-4752fb035b14",
   "metadata": {},
   "outputs": [
    {
     "name": "stdout",
     "output_type": "stream",
     "text": [
      "Is date_2 an instance of the pd.Timestamp class? True\n",
      "Is date_2 an instance of the datetime.datetime class? True\n",
      "Is date_1 an instance of the pd.Timestamp class? False\n"
     ]
    }
   ],
   "source": [
    "# Why?\n",
    "print(f'Is date_2 an instance of the pd.Timestamp class? {isinstance(date_2,pd.Timestamp)}')#True\n",
    "print(f'Is date_2 an instance of the datetime.datetime class? {isinstance(date_2,pd.Timestamp)}')#True\n",
    "\n",
    "# Both are true since the pandas Timestamp class is nothing but a subclass of the datetime class of \n",
    "# datetime module!\n",
    "\n",
    "# Going, by the logic of subclasses, date_1 should not be a instance of the Timestamp class! \n",
    "print(f'Is date_1 an instance of the pd.Timestamp class? {isinstance(date_1,pd.Timestamp)}') #False"
   ]
  },
  {
   "cell_type": "code",
   "execution_count": 6,
   "id": "349ad44b-5d6f-49ca-9757-303999baf56f",
   "metadata": {},
   "outputs": [
    {
     "name": "stdout",
     "output_type": "stream",
     "text": [
      "The year from the date, 2024-09-03 17:52:44, is : 2024\n",
      "The month from the date, 2024-09-03 17:52:44, is : 9\n",
      "The day from the date, 2024-09-03 17:52:44, is : 3\n"
     ]
    }
   ],
   "source": [
    "# Applyibg the additional methods to the Timestamp object\n",
    "print(f'The year from the date, {date_2}, is : {date_2.year}')\n",
    "print(f'The month from the date, {date_2}, is : {date_2.month}')\n",
    "print(f'The day from the date, {date_2}, is : {date_2.day}')"
   ]
  },
  {
   "cell_type": "markdown",
   "id": "2556cd58-404c-4a71-9ac5-fd289465416f",
   "metadata": {},
   "source": [
    "`pandas.DatetimeIndex`:\n",
    "\n",
    "`DatetimeIndex` is an **index class for pandas DataFrames or Series**, specifically designed to handle date and time data. It is a **collection of pandas.Timestamp objects**.\n",
    "\n",
    "- DatetimeIndex allows for efficient date and time indexing, slicing, and resampling. It is ideal for time-series data.\n",
    "- Provides methods for quickly accessing date components (year, month, day), handling time zones, performing date arithmetic, and more.\n",
    "- Offers vectorized operations on date ranges, making it highly efficient for operations like filtering or grouping by specific time intervals."
   ]
  },
  {
   "cell_type": "code",
   "execution_count": 7,
   "id": "43a930e3-3e21-4211-bfb7-83358ba346e5",
   "metadata": {},
   "outputs": [
    {
     "name": "stdout",
     "output_type": "stream",
     "text": [
      "DatetimeIndex(['2023-09-03', '2024-01-01'], dtype='datetime64[ns]', freq=None)\n"
     ]
    }
   ],
   "source": [
    "# Create a DatetimeIndex from a list of datetime.datetime objects\n",
    "datetime_list = [datetime.datetime(2023, 9, 3), datetime.datetime(2024, 1, 1)]\n",
    "datetime_index = pd.DatetimeIndex(datetime_list)\n",
    "print(datetime_index)  # Output: DatetimeIndex(['2023-09-03', '2024-01-01'], dtype='datetime64[ns]', freq=None)"
   ]
  },
  {
   "cell_type": "code",
   "execution_count": 8,
   "id": "cdc5181b-98ab-4ff3-986a-c863d422b89c",
   "metadata": {},
   "outputs": [
    {
     "name": "stdout",
     "output_type": "stream",
     "text": [
      "The first date from the datatime_index is : 2023-09-03 00:00:00\n",
      "The second date from the datatime_index is : 2024-01-01 00:00:00\n"
     ]
    }
   ],
   "source": [
    "print(f'The first date from the datatime_index is : {datetime_index[0]}')\n",
    "print(f'The second date from the datatime_index is : {datetime_index[1]}')"
   ]
  },
  {
   "cell_type": "code",
   "execution_count": 3,
   "id": "0de59d9a",
   "metadata": {},
   "outputs": [
    {
     "name": "stdout",
     "output_type": "stream",
     "text": [
      "DatetimeIndex(['2024-09-03', '2024-01-01'], dtype='datetime64[ns]', freq=None)\n"
     ]
    }
   ],
   "source": [
    "# Create a DatetimeIndex from a list of datetime.datetime objects\n",
    "datetime_list = [pd.Timestamp(year=2024, month=9, day=3), pd.Timestamp('2024-01-01')]\n",
    "datetime_index = pd.DatetimeIndex(datetime_list)\n",
    "print(datetime_index)  # Output: DatetimeIndex(['2023-09-03', '2024-01-01'], dtype='datetime64[ns]', freq=None)"
   ]
  },
  {
   "cell_type": "markdown",
   "id": "f9c4595c-3ac0-4aaa-87b7-de9433999a50",
   "metadata": {},
   "source": [
    "### How They Relate:\n",
    "**Conversion and Interoperability**: You can convert datetime.datetime objects to pandas.Timestamp or DatetimeIndex and vice versa.\n",
    "\n",
    "- A datetime.datetime object can be directly converted to pandas.Timestamp using the pd.Timestamp() constructor.\n",
    "- Similarly, a list of datetime.datetime objects can be converted to a DatetimeIndex using pd.DatetimeIndex().\n",
    "\n",
    "**Performance and Precision**: pandas.Timestamp and DatetimeIndex are optimized for performance, especially when dealing with large datasets, and provide higher precision than the native datetime.datetime."
   ]
  },
  {
   "cell_type": "markdown",
   "id": "0d8dd1dd-a249-4fbd-b393-6337c97082f6",
   "metadata": {},
   "source": [
    "# B. How to_datetime() Behaves?\n",
    "`pandas.to_datetime()` is a powerful and flexible function used to **convert various types of data into datetime objects in pandas.** It can handle multiple input formats such as strings, integers, floats, datetime.datetime objects, and more, converting them into pandas.Timestamp or DatetimeIndex objects.\n",
    "\n",
    "\n",
    "1. **Converting Strings to Datetime**: \n",
    "`to_datetime()` can parse strings representing dates and times into pandas.Timestamp objects. It automatically detects and interprets common date formats, including $YYYY-MM-DD, DD/MM/YYYY, MM-DD-YYYY$, and more."
   ]
  },
  {
   "cell_type": "code",
   "execution_count": 9,
   "id": "b291a7af-c8db-4879-ae1b-ee74e13a3aab",
   "metadata": {},
   "outputs": [
    {
     "name": "stdout",
     "output_type": "stream",
     "text": [
      "2024-09-03 00:00:00\n"
     ]
    }
   ],
   "source": [
    "# Example: Convert string to Timestamp\n",
    "date_string = \"2024-09-03\"\n",
    "converted_date = pd.to_datetime(date_string)\n",
    "print(converted_date)  # Output: 2024-09-03 00:00:00"
   ]
  },
  {
   "cell_type": "markdown",
   "id": "67b5d048-4569-4764-bcc0-5a0801611fca",
   "metadata": {},
   "source": [
    "By default, it **converts a single date string to a pandas.Timestamp** and a **list or Series of date strings to a DatetimeIndex**."
   ]
  },
  {
   "cell_type": "code",
   "execution_count": 10,
   "id": "50a38dee-02a9-4555-a3c6-b05c789cb61b",
   "metadata": {},
   "outputs": [
    {
     "name": "stdout",
     "output_type": "stream",
     "text": [
      "<class 'pandas._libs.tslibs.timestamps.Timestamp'>\n"
     ]
    }
   ],
   "source": [
    "print(type(converted_date))"
   ]
  },
  {
   "cell_type": "code",
   "execution_count": 11,
   "id": "5a5c4964-ecb6-41d5-a758-ea40aefcda7a",
   "metadata": {},
   "outputs": [
    {
     "name": "stdout",
     "output_type": "stream",
     "text": [
      "DatetimeIndex(['2024-09-03', '2024-10-03'], dtype='datetime64[ns]', freq=None)\n"
     ]
    }
   ],
   "source": [
    "# consider now a list of dates and let us sess what happens when we apply to_datetime\n",
    "date_list = [\"2024-09-03\", \"2024-10-03\"]\n",
    "converted_date = pd.to_datetime(date_list)\n",
    "print(converted_date)  # Output: 2024-09-03 00:00:00"
   ]
  },
  {
   "cell_type": "code",
   "execution_count": 12,
   "id": "1e48e180-0bd0-42f5-a540-0820eb039358",
   "metadata": {},
   "outputs": [
    {
     "name": "stdout",
     "output_type": "stream",
     "text": [
      "<class 'pandas.core.indexes.datetimes.DatetimeIndex'>\n"
     ]
    }
   ],
   "source": [
    "print(type(converted_date))"
   ]
  },
  {
   "cell_type": "markdown",
   "id": "89fa2c9a-61f2-4aa9-a0f7-8fe79a36a4e5",
   "metadata": {},
   "source": [
    "2. **Handling Different Input Formats**:\n",
    "`to_datetime()` can handle various input formats, including:\n",
    "\n",
    "- Single strings: Converts a single string into a Timestamp.\n",
    "- List or array of strings: Converts a list or array of strings into a DatetimeIndex.\n",
    "- Integers/Floats: Interprets numbers as **Unix timestamps (seconds since 1970-01-01 00:00:00 UTC)**."
   ]
  },
  {
   "cell_type": "code",
   "execution_count": 9,
   "id": "40067012-7eca-422f-9375-b85adf620e17",
   "metadata": {},
   "outputs": [
    {
     "name": "stdout",
     "output_type": "stream",
     "text": [
      "2023-09-03 13:20:00 is of type : <class 'pandas._libs.tslibs.timestamps.Timestamp'>\n"
     ]
    }
   ],
   "source": [
    "# Example: Convert Unix timestamp to datetime\n",
    "timestamp = 1693747200\n",
    "converted_date = pd.to_datetime(timestamp, unit='s')\n",
    "print(f\"{converted_date} is of type : {type(converted_date)}\")  # Output: 2023-09-03 13:20:00 is of type : <class 'pandas._libs.tslibs.timestamps.Timestamp'>"
   ]
  },
  {
   "cell_type": "code",
   "execution_count": 11,
   "id": "69fe0834",
   "metadata": {},
   "outputs": [
    {
     "name": "stdout",
     "output_type": "stream",
     "text": [
      "2023-09-03 18:50:00 is of type : <class 'datetime.datetime'>\n",
      "2023-09-03 18:50:00 is of type : <class 'pandas._libs.tslibs.timestamps.Timestamp'>\n"
     ]
    }
   ],
   "source": [
    "# another way\n",
    "from datetime import datetime, time\n",
    "timestamp = 1693747200 # this as a POSIX time \n",
    "# convert POSIX to datetime\n",
    "timestamp_dt = datetime.fromtimestamp(timestamp=timestamp)\n",
    "print(f\"{timestamp_dt} is of type : {type(timestamp_dt)}\")\n",
    "\n",
    "converted_date = pd.Timestamp(timestamp_dt)\n",
    "print(f\"{converted_date} is of type : {type(converted_date)}\")"
   ]
  },
  {
   "cell_type": "markdown",
   "id": "6a080976-8d67-4e82-9594-03c283637dd2",
   "metadata": {},
   "source": [
    "3. **Dealing with Different Date Formats**:\n",
    "`to_datetime()` is **flexible with date formats**. If you know the format of your date strings, you can specify it using the format parameter to speed up the conversion."
   ]
  },
  {
   "cell_type": "code",
   "execution_count": 13,
   "id": "a4f96b04-abc6-4f7c-8248-090b7905bda6",
   "metadata": {},
   "outputs": [
    {
     "name": "stdout",
     "output_type": "stream",
     "text": [
      "2024-09-03\n"
     ]
    }
   ],
   "source": [
    "# Example: Specifying date format\n",
    "date_string = \"03/09/2024\"\n",
    "converted_date = pd.to_datetime(date_string, format='%d/%m/%Y')\n",
    "print(converted_date.date())  # Output: 2024-09-03 00:00:00"
   ]
  },
  {
   "cell_type": "code",
   "execution_count": 12,
   "id": "ec9ebf7f",
   "metadata": {},
   "outputs": [
    {
     "name": "stdout",
     "output_type": "stream",
     "text": [
      "2024-09-03\n"
     ]
    }
   ],
   "source": [
    "# Alternative way\n",
    "date_string = \"03/09/2024\"\n",
    "date = datetime.strptime(date_string, \"%d/%m/%Y\").date()\n",
    "print(date)"
   ]
  },
  {
   "cell_type": "code",
   "execution_count": 14,
   "id": "eebb4617-0fc7-4b48-96fc-70673a9eaec8",
   "metadata": {},
   "outputs": [
    {
     "name": "stdout",
     "output_type": "stream",
     "text": [
      "2024-09-03 00:00:00\n",
      "2024-09-03 00:00:00\n",
      "2024-09-03 00:00:00\n",
      "2024-09-03 00:00:00\n",
      "2024-09-03 00:00:00\n",
      "2024-09-03 14:05:07\n",
      "2024-09-03 14:05:00\n",
      "2024-09-03 14:05:07.123456\n",
      "2024-09-03 14:05:07+00:00\n",
      "2024-09-03 00:00:00\n"
     ]
    }
   ],
   "source": [
    "# Day/Month/Year Format\n",
    "date1 = pd.to_datetime(\"03/09/2024\", format=\"%d/%m/%Y\")  # Output: 2024-09-03 00:00:00\n",
    "\n",
    "# Month/Day/Year Format\n",
    "date2 = pd.to_datetime(\"09/03/2024\", format=\"%m/%d/%Y\")  # Output: 2024-09-03 00:00:00\n",
    "\n",
    "# Year-Month-Day Format\n",
    "date3 = pd.to_datetime(\"2024-09-03\", format=\"%Y-%m-%d\")  # Output: 2024-09-03 00:00:00\n",
    "\n",
    "# Full Month Name with Day and Year\n",
    "date4 = pd.to_datetime(\"September 3, 2024\", format=\"%B %d, %Y\")  # Output: 2024-09-03 00:00:00\n",
    "\n",
    "# Abbreviated Month Name with Day and Year\n",
    "date5 = pd.to_datetime(\"Sep 3, 2024\", format=\"%b %d, %Y\")  # Output: 2024-09-03 00:00:00\n",
    "\n",
    "# ISO 8601 Format with Time\n",
    "date6 = pd.to_datetime(\"2024-09-03T14:05:07\", format=\"%Y-%m-%dT%H:%M:%S\")  # Output: 2024-09-03 14:05:07\n",
    "\n",
    "# 12-Hour Clock with AM/PM\n",
    "date7 = pd.to_datetime(\"09/03/2024 02:05 PM\", format=\"%m/%d/%Y %I:%M %p\")  # Output: 2024-09-03 14:05:00\n",
    "\n",
    "# Datetime with Microseconds\n",
    "date8 = pd.to_datetime(\"2024-09-03 14:05:07.123456\", format=\"%Y-%m-%d %H:%M:%S.%f\")  # Output: 2024-09-03 14:05:07.123456\n",
    "\n",
    "# UTC Offset Time\n",
    "date9 = pd.to_datetime(\"2024-09-03 14:05:07+0000\", format=\"%Y-%m-%d %H:%M:%S%z\")  # Output: 2024-09-03 14:05:07+00:00\n",
    "\n",
    "# Weekday and Date\n",
    "date10 = pd.to_datetime(\"Tue Sep 3 2024\", format=\"%a %b %d %Y\")  # Output: 2024-09-03 00:00:00\n",
    "\n",
    "# Print all parsed dates\n",
    "print(date1)\n",
    "print(date2)\n",
    "print(date3)\n",
    "print(date4)\n",
    "print(date5)\n",
    "print(date6)\n",
    "print(date7)\n",
    "print(date8)\n",
    "print(date9)\n",
    "print(date10)"
   ]
  },
  {
   "cell_type": "markdown",
   "id": "8524e1aa-f11f-41a7-aeac-e1cbfce7cfbf",
   "metadata": {},
   "source": [
    "4. **Handling Errors**:\n",
    "`to_datetime()` has an errors parameter to handle errors during conversion:\n",
    "\n",
    "- errors='raise' (default): Raises an error if any conversion fails.\n",
    "- errors='coerce': Converts invalid parsing to **NaT (Not a Time)**.\n",
    "- errors='ignore': Returns the input without conversion if parsing fails."
   ]
  },
  {
   "cell_type": "code",
   "execution_count": 26,
   "id": "2967e9ce-c9fd-442a-bcea-bf1f564fcc92",
   "metadata": {},
   "outputs": [
    {
     "name": "stdout",
     "output_type": "stream",
     "text": [
      "NaT\n"
     ]
    }
   ],
   "source": [
    "# Example: Handling invalid date with 'coerce'\n",
    "invalid_date_string = \"invalid_date\"\n",
    "converted_date = pd.to_datetime(invalid_date_string, errors='coerce')\n",
    "print(converted_date)  # Output: NaT"
   ]
  },
  {
   "cell_type": "markdown",
   "id": "02acdd1c-60fe-4a8c-89e8-f15a31c5728a",
   "metadata": {},
   "source": [
    "5. **Dealing with Time Zones**:\n",
    "`to_datetime()` can handle time zones using the utc or tz parameters:\n",
    "\n",
    "- utc=True: Converts dates to UTC time.\n",
    "- tz parameter: Converts to a specific timezone."
   ]
  },
  {
   "cell_type": "code",
   "execution_count": 14,
   "id": "b17025f8-6933-4878-b360-20d45e9795aa",
   "metadata": {},
   "outputs": [
    {
     "data": {
      "text/plain": [
       "['Asia/Aden',\n",
       " 'Asia/Almaty',\n",
       " 'Asia/Amman',\n",
       " 'Asia/Anadyr',\n",
       " 'Asia/Aqtau',\n",
       " 'Asia/Aqtobe',\n",
       " 'Asia/Ashgabat',\n",
       " 'Asia/Ashkhabad',\n",
       " 'Asia/Atyrau',\n",
       " 'Asia/Baghdad',\n",
       " 'Asia/Bahrain',\n",
       " 'Asia/Baku',\n",
       " 'Asia/Bangkok',\n",
       " 'Asia/Barnaul',\n",
       " 'Asia/Beirut',\n",
       " 'Asia/Bishkek',\n",
       " 'Asia/Brunei',\n",
       " 'Asia/Calcutta',\n",
       " 'Asia/Chita',\n",
       " 'Asia/Choibalsan',\n",
       " 'Asia/Chongqing',\n",
       " 'Asia/Chungking',\n",
       " 'Asia/Colombo',\n",
       " 'Asia/Dacca',\n",
       " 'Asia/Damascus',\n",
       " 'Asia/Dhaka',\n",
       " 'Asia/Dili',\n",
       " 'Asia/Dubai',\n",
       " 'Asia/Dushanbe',\n",
       " 'Asia/Famagusta',\n",
       " 'Asia/Gaza',\n",
       " 'Asia/Harbin',\n",
       " 'Asia/Hebron',\n",
       " 'Asia/Ho_Chi_Minh',\n",
       " 'Asia/Hong_Kong',\n",
       " 'Asia/Hovd',\n",
       " 'Asia/Irkutsk',\n",
       " 'Asia/Istanbul',\n",
       " 'Asia/Jakarta',\n",
       " 'Asia/Jayapura',\n",
       " 'Asia/Jerusalem',\n",
       " 'Asia/Kabul',\n",
       " 'Asia/Kamchatka',\n",
       " 'Asia/Karachi',\n",
       " 'Asia/Kashgar',\n",
       " 'Asia/Kathmandu',\n",
       " 'Asia/Katmandu',\n",
       " 'Asia/Khandyga',\n",
       " 'Asia/Kolkata',\n",
       " 'Asia/Krasnoyarsk',\n",
       " 'Asia/Kuala_Lumpur',\n",
       " 'Asia/Kuching',\n",
       " 'Asia/Kuwait',\n",
       " 'Asia/Macao',\n",
       " 'Asia/Macau',\n",
       " 'Asia/Magadan',\n",
       " 'Asia/Makassar',\n",
       " 'Asia/Manila',\n",
       " 'Asia/Muscat',\n",
       " 'Asia/Nicosia',\n",
       " 'Asia/Novokuznetsk',\n",
       " 'Asia/Novosibirsk',\n",
       " 'Asia/Omsk',\n",
       " 'Asia/Oral',\n",
       " 'Asia/Phnom_Penh',\n",
       " 'Asia/Pontianak',\n",
       " 'Asia/Pyongyang',\n",
       " 'Asia/Qatar',\n",
       " 'Asia/Qostanay',\n",
       " 'Asia/Qyzylorda',\n",
       " 'Asia/Rangoon',\n",
       " 'Asia/Riyadh',\n",
       " 'Asia/Saigon',\n",
       " 'Asia/Sakhalin',\n",
       " 'Asia/Samarkand',\n",
       " 'Asia/Seoul',\n",
       " 'Asia/Shanghai',\n",
       " 'Asia/Singapore',\n",
       " 'Asia/Srednekolymsk',\n",
       " 'Asia/Taipei',\n",
       " 'Asia/Tashkent',\n",
       " 'Asia/Tbilisi',\n",
       " 'Asia/Tehran',\n",
       " 'Asia/Tel_Aviv',\n",
       " 'Asia/Thimbu',\n",
       " 'Asia/Thimphu',\n",
       " 'Asia/Tokyo',\n",
       " 'Asia/Tomsk',\n",
       " 'Asia/Ujung_Pandang',\n",
       " 'Asia/Ulaanbaatar',\n",
       " 'Asia/Ulan_Bator',\n",
       " 'Asia/Urumqi',\n",
       " 'Asia/Ust-Nera',\n",
       " 'Asia/Vientiane',\n",
       " 'Asia/Vladivostok',\n",
       " 'Asia/Yakutsk',\n",
       " 'Asia/Yangon',\n",
       " 'Asia/Yekaterinburg',\n",
       " 'Asia/Yerevan']"
      ]
     },
     "execution_count": 14,
     "metadata": {},
     "output_type": "execute_result"
    }
   ],
   "source": [
    "import pytz\n",
    "asia_tz = list(filter(lambda x: 'Asia' in x , pytz.all_timezones))\n",
    "asia_tz"
   ]
  },
  {
   "cell_type": "code",
   "execution_count": 18,
   "id": "12123a0e-590d-4a5d-8ddb-8312a354be09",
   "metadata": {},
   "outputs": [
    {
     "name": "stdout",
     "output_type": "stream",
     "text": [
      "2024-09-03 10:00:00+00:00\n",
      "2024-09-03 10:00:00+03:00\n"
     ]
    }
   ],
   "source": [
    "# Example: Convert to UTC\n",
    "date_string = \"2024-09-03 10:00:00\"\n",
    "converted_date = pd.to_datetime(date_string, utc=True)\n",
    "print(converted_date)  # Output: 2024-09-03 10:00:00+00:00\n",
    "\n",
    "# Example: Convert to specific timezone\n",
    "converted_date = pd.to_datetime(date_string).tz_localize('Asia/Kuwait')\n",
    "print(converted_date)  # Output: 2024-09-03 10:00:00+03:00"
   ]
  },
  {
   "cell_type": "code",
   "execution_count": 19,
   "id": "c20db84d",
   "metadata": {},
   "outputs": [
    {
     "data": {
      "text/plain": [
       "datetime.timedelta(seconds=10800)"
      ]
     },
     "execution_count": 19,
     "metadata": {},
     "output_type": "execute_result"
    }
   ],
   "source": [
    "converted_date.utcoffset() #this is the offset we get from timezone "
   ]
  },
  {
   "cell_type": "markdown",
   "id": "f51d3130-39bb-4d7e-9eca-92dcf9b9f496",
   "metadata": {},
   "source": [
    "6. Handling Incomplete Dates:\n",
    "`to_datetime()` can **parse incomplete dates by assuming missing parts**. For example, if only the year is provided, it will assume the first day of that year."
   ]
  },
  {
   "cell_type": "code",
   "execution_count": 17,
   "id": "44a39e96-a604-4a8c-b4c5-a2ddad53a7ca",
   "metadata": {},
   "outputs": [
    {
     "name": "stdout",
     "output_type": "stream",
     "text": [
      "2024-01-01 00:00:00\n"
     ]
    }
   ],
   "source": [
    "# Example: Incomplete date\n",
    "incomplete_date = \"2024\"\n",
    "converted_date = pd.to_datetime(incomplete_date)\n",
    "print(converted_date)  # Output: 2024-01-01 00:00:00"
   ]
  },
  {
   "cell_type": "markdown",
   "id": "8497a9da-9bf0-4d3a-a930-b577f877de36",
   "metadata": {},
   "source": [
    "The `infer_datetime_format` parameter in the `pandas.to_datetime()` function is used to **optimize the parsing of date strings by inferring the format of the date automatically.** When this parameter is set to True, pandas tries to guess the format of the date strings provided and uses that format to speed up the conversion process.\n",
    "\n",
    "- A strict version of it is now the default, see https://pandas.pydata.org/pdeps/0004-consistent-to-datetime-parsing.html. You can safely remove this argument."
   ]
  },
  {
   "cell_type": "code",
   "execution_count": 18,
   "id": "1294a56a-3ee9-4f95-9cab-aff3b7ae9102",
   "metadata": {},
   "outputs": [],
   "source": [
    "# let us write some code and extract some useful info from dates\n",
    "# let me use a non strict version\n",
    "dates = ['2024-11-30', \n",
    "         '2/1/2024',\n",
    "         np.datetime64('2024-07-01'), # numpy datetime64\n",
    "         datetime.datetime(2024, 8, 1), # python datetime\n",
    "         pd.Timestamp(2024,10,1) # pandas Timestamp\n",
    "]\n",
    "# If a user has dates in a mixed format, they can still use flexible parsing and accept the risks \n",
    "# that poses.\n",
    "parsed_dates = pd.to_datetime(dates,errors='coerce', format='mixed')"
   ]
  },
  {
   "cell_type": "code",
   "execution_count": 12,
   "id": "d8805c55-5904-4d48-9ef3-cc56a1840b3d",
   "metadata": {},
   "outputs": [
    {
     "data": {
      "text/plain": [
       "DatetimeIndex(['2024-11-30', '2024-02-01', '2024-07-01', '2024-08-01',\n",
       "               '2024-10-01'],\n",
       "              dtype='datetime64[ns]', freq=None)"
      ]
     },
     "execution_count": 12,
     "metadata": {},
     "output_type": "execute_result"
    }
   ],
   "source": [
    "parsed_dates"
   ]
  },
  {
   "cell_type": "code",
   "execution_count": 19,
   "id": "e28843a8-e7a6-42fa-b8f6-e52231fd1693",
   "metadata": {},
   "outputs": [
    {
     "name": "stdout",
     "output_type": "stream",
     "text": [
      "Name of Day : Index(['Saturday', 'Thursday', 'Monday', 'Thursday', 'Tuesday'], dtype='object')\n",
      "Month : Index(['November', 'February', 'July', 'August', 'October'], dtype='object')\n",
      "Year : Index([2024, 2024, 2024, 2024, 2024], dtype='int32')\n",
      "Days in Month : Index([30, 29, 31, 31, 31], dtype='int32')\n",
      "Quarter Index([4, 1, 3, 3, 4], dtype='int32')\n",
      "Quarter Start : [False False  True False  True]\n",
      "Leap Year : [ True  True  True  True  True]\n",
      "Month Start : [False  True  True  True  True]\n",
      "Month End : [ True False False False False]\n",
      "Year Start : [False False False False False]\n"
     ]
    }
   ],
   "source": [
    "print(f'Name of Day : {parsed_dates.day_name()}')\n",
    "print(f'Month : {parsed_dates.month_name()}')\n",
    "print(f'Year : {parsed_dates.year}')\n",
    "print(f'Days in Month : {parsed_dates.days_in_month}')\n",
    "print(f'Quarter {parsed_dates.quarter}')\n",
    "print(f'Quarter Start : {parsed_dates.is_quarter_start}')\n",
    "print(f'Leap Year : {parsed_dates.is_leap_year}')\n",
    "print(f'Month Start : {parsed_dates.is_month_start}')\n",
    "print(f'Month End : {parsed_dates.is_month_end}')\n",
    "print(f'Year Start : {parsed_dates.is_year_start}')"
   ]
  },
  {
   "cell_type": "markdown",
   "id": "5c66f220-795d-4bee-b98f-73436633d2f6",
   "metadata": {},
   "source": [
    "# C. date_range() Function\n",
    "\n",
    "The `pandas.date_range()` function is used to **generate a sequence of dates (or a range of dates) with a specified frequency.** It is particularly useful for creating time series data, building a timeline, or working with financial data that requires regular time intervals. The `date_range()` function returns a `DatetimeIndex` object, which is an index containing datetime objects.\n",
    "\n",
    "**Key Parameters of date_range**\n",
    "- start: The starting date of the range. You can pass a string, a `datetime.datetime object`, or a `pandas.Timestamp`.\n",
    "- end: The ending date of the range. Similar to start, this can be a string, `datetime.datetime`, or `pandas.Timestamp`.\n",
    "- periods: Specifies the number of periods (or number of dates) to generate. If periods is specified, end is not needed.\n",
    "- freq: Frequency of the dates to generate. The default is daily ('D'), but it can be set to various other frequencies, such as 'H' for hourly, 'M' for month-end, 'B' for business day, etc.\n",
    "- tz: Time zone information. You can specify a time zone string (like 'UTC' or 'America/New_York').\n",
    "- normalize: If set to True, normalizes the start and end dates to midnight (00:00:00).\n",
    "- inclusive : {\"both\", \"neither\", \"left\", \"right\"}, default \"both\""
   ]
  },
  {
   "cell_type": "code",
   "execution_count": 20,
   "id": "625b85dd-6938-47c1-bbcd-9f54dd9330bc",
   "metadata": {},
   "outputs": [
    {
     "name": "stdout",
     "output_type": "stream",
     "text": [
      "DatetimeIndex(['2024-09-01', '2024-09-02', '2024-09-03', '2024-09-04',\n",
      "               '2024-09-05'],\n",
      "              dtype='datetime64[ns]', freq='D')\n"
     ]
    }
   ],
   "source": [
    "# Generate a range of dates from September 1, 2024, to September 5, 2024\n",
    "date_range_example = pd.date_range(start='2024-09-01', end='2024-09-05')\n",
    "print(date_range_example)"
   ]
  },
  {
   "cell_type": "code",
   "execution_count": 24,
   "id": "cb77c14e-70a9-427e-aa2c-e2357aa0751d",
   "metadata": {},
   "outputs": [
    {
     "name": "stdout",
     "output_type": "stream",
     "text": [
      "DatetimeIndex(['2024-09-01', '2024-09-02', '2024-09-03', '2024-09-04'], dtype='datetime64[ns]', freq='D')\n"
     ]
    }
   ],
   "source": [
    "# Generate a range of dates from September 1, 2024, to September 5, 2024 with inclusive parameter\n",
    "# if inclusive = 'left' it only includes the left date and leaves the right \n",
    "date_range_example = pd.date_range(start='2024-09-01', end='2024-09-05', inclusive='left')\n",
    "print(date_range_example)"
   ]
  },
  {
   "cell_type": "code",
   "execution_count": 21,
   "id": "d3bd3143-51f4-46d0-aec1-4de556f16f7a",
   "metadata": {},
   "outputs": [
    {
     "name": "stdout",
     "output_type": "stream",
     "text": [
      "DatetimeIndex(['2024-09-01', '2024-09-02', '2024-09-03', '2024-09-04',\n",
      "               '2024-09-05'],\n",
      "              dtype='datetime64[ns]', freq='D')\n"
     ]
    }
   ],
   "source": [
    "# Generate 5 daily dates starting from September 1, 2024\n",
    "date_range_example = pd.date_range(start='2024-09-01', periods=5)\n",
    "print(date_range_example)"
   ]
  },
  {
   "cell_type": "code",
   "execution_count": 22,
   "id": "6e3ef4b7-1457-45d1-914a-1da7e50675f0",
   "metadata": {},
   "outputs": [
    {
     "name": "stdout",
     "output_type": "stream",
     "text": [
      "DatetimeIndex(['2024-09-01 00:00:00', '2024-09-01 01:00:00',\n",
      "               '2024-09-01 02:00:00', '2024-09-01 03:00:00',\n",
      "               '2024-09-01 04:00:00', '2024-09-01 05:00:00',\n",
      "               '2024-09-01 06:00:00', '2024-09-01 07:00:00',\n",
      "               '2024-09-01 08:00:00', '2024-09-01 09:00:00',\n",
      "               '2024-09-01 10:00:00', '2024-09-01 11:00:00',\n",
      "               '2024-09-01 12:00:00', '2024-09-01 13:00:00',\n",
      "               '2024-09-01 14:00:00', '2024-09-01 15:00:00',\n",
      "               '2024-09-01 16:00:00', '2024-09-01 17:00:00',\n",
      "               '2024-09-01 18:00:00', '2024-09-01 19:00:00',\n",
      "               '2024-09-01 20:00:00', '2024-09-01 21:00:00',\n",
      "               '2024-09-01 22:00:00', '2024-09-01 23:00:00',\n",
      "               '2024-09-02 00:00:00'],\n",
      "              dtype='datetime64[ns]', freq='H')\n"
     ]
    }
   ],
   "source": [
    "# Generate an hourly range of dates from September 1, 2024, to September 2, 2024\n",
    "hourly_range = pd.date_range(start='2024-09-01', end='2024-09-02', freq='H')\n",
    "print(hourly_range)"
   ]
  },
  {
   "cell_type": "code",
   "execution_count": 17,
   "id": "9c1fd1b9-7faf-4ea3-94ca-283f5ac3f954",
   "metadata": {},
   "outputs": [
    {
     "name": "stdout",
     "output_type": "stream",
     "text": [
      "DatetimeIndex(['2024-09-02', '2024-09-03', '2024-09-04', '2024-09-05',\n",
      "               '2024-09-06'],\n",
      "              dtype='datetime64[ns]', freq='B')\n"
     ]
    }
   ],
   "source": [
    "# Generate a range of business days\n",
    "business_days = pd.date_range(start='2024-09-01', periods=5, freq='B')\n",
    "print(business_days)"
   ]
  },
  {
   "cell_type": "markdown",
   "id": "11fe98f8-b1c7-413b-b8c4-b15b94729f53",
   "metadata": {},
   "source": [
    "Here, 'B' stands for business day, so the output includes only weekdays, skipping September 1st since it's a Sunday."
   ]
  },
  {
   "cell_type": "code",
   "execution_count": 23,
   "id": "443c429b-1393-4098-b5d7-8dcebeb220f2",
   "metadata": {},
   "outputs": [
    {
     "name": "stdout",
     "output_type": "stream",
     "text": [
      "DatetimeIndex(['2024-09-01 00:00:00+00:00', '2024-09-02 00:00:00+00:00',\n",
      "               '2024-09-03 00:00:00+00:00'],\n",
      "              dtype='datetime64[ns, UTC]', freq='D')\n"
     ]
    }
   ],
   "source": [
    "# Generate a range of dates in UTC\n",
    "utc_dates = pd.date_range(start='2024-09-01', periods=3, freq='D', tz='UTC')\n",
    "print(utc_dates)"
   ]
  },
  {
   "cell_type": "markdown",
   "id": "a0bdbb98-e9b9-4140-b59d-e70f853910fc",
   "metadata": {},
   "source": [
    "Frequency Aliases for date_range `date_range()` supports several frequency aliases:\n",
    "\n",
    "- 'D': Day\n",
    "- 'B': Business day\n",
    "- 'H': Hour\n",
    "- 'T' or 'min': Minute\n",
    "- 'S': Second\n",
    "- 'L': Millisecond\n",
    "- 'U': Microsecond\n",
    "- 'N': Nanosecond\n",
    "- 'W': Weekly\n",
    "- 'M': Month-end\n",
    "- 'Q': Quarter-end\n",
    "- 'A': Year-end"
   ]
  },
  {
   "cell_type": "markdown",
   "id": "443ac3ac-e12d-4d2c-aaf2-6acc672a5199",
   "metadata": {},
   "source": [
    "# D. Creating a Time Series DataFrame "
   ]
  },
  {
   "cell_type": "code",
   "execution_count": 21,
   "id": "801f4e11-71b3-4263-9d10-1f91eb864c2e",
   "metadata": {},
   "outputs": [
    {
     "name": "stdout",
     "output_type": "stream",
     "text": [
      "       dates  sales\n",
      "0 2024-09-01    200\n",
      "1 2024-09-02    450\n",
      "2 2024-09-03    300\n",
      "3 2024-09-04    500\n",
      "4 2024-09-05    700\n"
     ]
    }
   ],
   "source": [
    "# Create sample data\n",
    "data = {\n",
    "    'dates': ['2024-09-01', '2024-09-02', '2024-09-03', '2024-09-04', '2024-09-05'],  # Dates as strings\n",
    "    'sales': [200, 450, 300, 500, 700]  # Sales numbers\n",
    "}\n",
    "\n",
    "# Convert 'days' column to datetime format\n",
    "df = pd.DataFrame(data)\n",
    "df['dates'] = pd.to_datetime(df['dates'], format='%Y-%m-%d')  # Converting string to datetime\n",
    "\n",
    "# Display the DataFrame\n",
    "print(df)"
   ]
  },
  {
   "cell_type": "code",
   "execution_count": 26,
   "id": "65d6cdce-70ad-4ed8-a361-4b7973c09c89",
   "metadata": {},
   "outputs": [
    {
     "name": "stdout",
     "output_type": "stream",
     "text": [
      "<class 'pandas.core.frame.DataFrame'>\n",
      "RangeIndex: 5 entries, 0 to 4\n",
      "Data columns (total 2 columns):\n",
      " #   Column  Non-Null Count  Dtype         \n",
      "---  ------  --------------  -----         \n",
      " 0   dates   5 non-null      datetime64[ns]\n",
      " 1   sales   5 non-null      int64         \n",
      "dtypes: datetime64[ns](1), int64(1)\n",
      "memory usage: 212.0 bytes\n"
     ]
    }
   ],
   "source": [
    "df.info()"
   ]
  },
  {
   "cell_type": "code",
   "execution_count": 27,
   "id": "bd2d2346-2987-4690-a184-05b8ff078576",
   "metadata": {},
   "outputs": [
    {
     "data": {
      "text/html": [
       "<div>\n",
       "<style scoped>\n",
       "    .dataframe tbody tr th:only-of-type {\n",
       "        vertical-align: middle;\n",
       "    }\n",
       "\n",
       "    .dataframe tbody tr th {\n",
       "        vertical-align: top;\n",
       "    }\n",
       "\n",
       "    .dataframe thead th {\n",
       "        text-align: right;\n",
       "    }\n",
       "</style>\n",
       "<table border=\"1\" class=\"dataframe\">\n",
       "  <thead>\n",
       "    <tr style=\"text-align: right;\">\n",
       "      <th></th>\n",
       "      <th>sales</th>\n",
       "    </tr>\n",
       "    <tr>\n",
       "      <th>dates</th>\n",
       "      <th></th>\n",
       "    </tr>\n",
       "  </thead>\n",
       "  <tbody>\n",
       "    <tr>\n",
       "      <th>2024-09-01</th>\n",
       "      <td>200</td>\n",
       "    </tr>\n",
       "    <tr>\n",
       "      <th>2024-09-02</th>\n",
       "      <td>450</td>\n",
       "    </tr>\n",
       "    <tr>\n",
       "      <th>2024-09-03</th>\n",
       "      <td>300</td>\n",
       "    </tr>\n",
       "    <tr>\n",
       "      <th>2024-09-04</th>\n",
       "      <td>500</td>\n",
       "    </tr>\n",
       "    <tr>\n",
       "      <th>2024-09-05</th>\n",
       "      <td>700</td>\n",
       "    </tr>\n",
       "  </tbody>\n",
       "</table>\n",
       "</div>"
      ],
      "text/plain": [
       "            sales\n",
       "dates            \n",
       "2024-09-01    200\n",
       "2024-09-02    450\n",
       "2024-09-03    300\n",
       "2024-09-04    500\n",
       "2024-09-05    700"
      ]
     },
     "execution_count": 27,
     "metadata": {},
     "output_type": "execute_result"
    }
   ],
   "source": [
    "# however, note that df['days'] is a Series object \n",
    "# let us convert it to a DatetimeIndex object \n",
    "\n",
    "df.set_index('dates', inplace=True)\n",
    "df"
   ]
  },
  {
   "cell_type": "code",
   "execution_count": 28,
   "id": "e93c5b7b-9ff4-430c-887b-ee985b94818c",
   "metadata": {},
   "outputs": [
    {
     "data": {
      "text/plain": [
       "DatetimeIndex(['2024-09-01', '2024-09-02', '2024-09-03', '2024-09-04',\n",
       "               '2024-09-05'],\n",
       "              dtype='datetime64[ns]', name='dates', freq=None)"
      ]
     },
     "execution_count": 28,
     "metadata": {},
     "output_type": "execute_result"
    }
   ],
   "source": [
    "df.index"
   ]
  },
  {
   "cell_type": "code",
   "execution_count": 29,
   "id": "0f85919f-abbe-4950-885e-de09be28fdda",
   "metadata": {},
   "outputs": [
    {
     "data": {
      "text/html": [
       "<div>\n",
       "<style scoped>\n",
       "    .dataframe tbody tr th:only-of-type {\n",
       "        vertical-align: middle;\n",
       "    }\n",
       "\n",
       "    .dataframe tbody tr th {\n",
       "        vertical-align: top;\n",
       "    }\n",
       "\n",
       "    .dataframe thead th {\n",
       "        text-align: right;\n",
       "    }\n",
       "</style>\n",
       "<table border=\"1\" class=\"dataframe\">\n",
       "  <thead>\n",
       "    <tr style=\"text-align: right;\">\n",
       "      <th></th>\n",
       "      <th>sales</th>\n",
       "      <th>Day</th>\n",
       "    </tr>\n",
       "    <tr>\n",
       "      <th>dates</th>\n",
       "      <th></th>\n",
       "      <th></th>\n",
       "    </tr>\n",
       "  </thead>\n",
       "  <tbody>\n",
       "    <tr>\n",
       "      <th>2024-09-01</th>\n",
       "      <td>200</td>\n",
       "      <td>Sunday</td>\n",
       "    </tr>\n",
       "    <tr>\n",
       "      <th>2024-09-02</th>\n",
       "      <td>450</td>\n",
       "      <td>Monday</td>\n",
       "    </tr>\n",
       "    <tr>\n",
       "      <th>2024-09-03</th>\n",
       "      <td>300</td>\n",
       "      <td>Tuesday</td>\n",
       "    </tr>\n",
       "    <tr>\n",
       "      <th>2024-09-04</th>\n",
       "      <td>500</td>\n",
       "      <td>Wednesday</td>\n",
       "    </tr>\n",
       "    <tr>\n",
       "      <th>2024-09-05</th>\n",
       "      <td>700</td>\n",
       "      <td>Thursday</td>\n",
       "    </tr>\n",
       "  </tbody>\n",
       "</table>\n",
       "</div>"
      ],
      "text/plain": [
       "            sales        Day\n",
       "dates                       \n",
       "2024-09-01    200     Sunday\n",
       "2024-09-02    450     Monday\n",
       "2024-09-03    300    Tuesday\n",
       "2024-09-04    500  Wednesday\n",
       "2024-09-05    700   Thursday"
      ]
     },
     "execution_count": 29,
     "metadata": {},
     "output_type": "execute_result"
    }
   ],
   "source": [
    "# add the day column to the dataframe \n",
    "df['Day'] = df.index.day_name()\n",
    "df"
   ]
  },
  {
   "cell_type": "code",
   "execution_count": 53,
   "id": "d82de0f6-dbc7-4286-a11f-fd9db85667b9",
   "metadata": {},
   "outputs": [
    {
     "data": {
      "text/html": [
       "<div>\n",
       "<style scoped>\n",
       "    .dataframe tbody tr th:only-of-type {\n",
       "        vertical-align: middle;\n",
       "    }\n",
       "\n",
       "    .dataframe tbody tr th {\n",
       "        vertical-align: top;\n",
       "    }\n",
       "\n",
       "    .dataframe thead th {\n",
       "        text-align: right;\n",
       "    }\n",
       "</style>\n",
       "<table border=\"1\" class=\"dataframe\">\n",
       "  <thead>\n",
       "    <tr style=\"text-align: right;\">\n",
       "      <th></th>\n",
       "      <th>days</th>\n",
       "      <th>sales</th>\n",
       "      <th>day_name</th>\n",
       "      <th>month_name</th>\n",
       "      <th>year</th>\n",
       "      <th>month</th>\n",
       "      <th>day</th>\n",
       "      <th>dayofweek</th>\n",
       "      <th>dayofyear</th>\n",
       "      <th>quarter</th>\n",
       "      <th>is_leap_year</th>\n",
       "      <th>formatted_date</th>\n",
       "    </tr>\n",
       "  </thead>\n",
       "  <tbody>\n",
       "    <tr>\n",
       "      <th>0</th>\n",
       "      <td>2024-09-01</td>\n",
       "      <td>200</td>\n",
       "      <td>Sunday</td>\n",
       "      <td>September</td>\n",
       "      <td>2024</td>\n",
       "      <td>9</td>\n",
       "      <td>1</td>\n",
       "      <td>6</td>\n",
       "      <td>245</td>\n",
       "      <td>3</td>\n",
       "      <td>True</td>\n",
       "      <td>01-Sep-2024</td>\n",
       "    </tr>\n",
       "    <tr>\n",
       "      <th>1</th>\n",
       "      <td>2024-09-02</td>\n",
       "      <td>450</td>\n",
       "      <td>Monday</td>\n",
       "      <td>September</td>\n",
       "      <td>2024</td>\n",
       "      <td>9</td>\n",
       "      <td>2</td>\n",
       "      <td>0</td>\n",
       "      <td>246</td>\n",
       "      <td>3</td>\n",
       "      <td>True</td>\n",
       "      <td>02-Sep-2024</td>\n",
       "    </tr>\n",
       "    <tr>\n",
       "      <th>2</th>\n",
       "      <td>2024-09-03</td>\n",
       "      <td>300</td>\n",
       "      <td>Tuesday</td>\n",
       "      <td>September</td>\n",
       "      <td>2024</td>\n",
       "      <td>9</td>\n",
       "      <td>3</td>\n",
       "      <td>1</td>\n",
       "      <td>247</td>\n",
       "      <td>3</td>\n",
       "      <td>True</td>\n",
       "      <td>03-Sep-2024</td>\n",
       "    </tr>\n",
       "    <tr>\n",
       "      <th>3</th>\n",
       "      <td>2024-09-04</td>\n",
       "      <td>500</td>\n",
       "      <td>Wednesday</td>\n",
       "      <td>September</td>\n",
       "      <td>2024</td>\n",
       "      <td>9</td>\n",
       "      <td>4</td>\n",
       "      <td>2</td>\n",
       "      <td>248</td>\n",
       "      <td>3</td>\n",
       "      <td>True</td>\n",
       "      <td>04-Sep-2024</td>\n",
       "    </tr>\n",
       "    <tr>\n",
       "      <th>4</th>\n",
       "      <td>2024-09-05</td>\n",
       "      <td>700</td>\n",
       "      <td>Thursday</td>\n",
       "      <td>September</td>\n",
       "      <td>2024</td>\n",
       "      <td>9</td>\n",
       "      <td>5</td>\n",
       "      <td>3</td>\n",
       "      <td>249</td>\n",
       "      <td>3</td>\n",
       "      <td>True</td>\n",
       "      <td>05-Sep-2024</td>\n",
       "    </tr>\n",
       "  </tbody>\n",
       "</table>\n",
       "</div>"
      ],
      "text/plain": [
       "        days  sales   day_name month_name  year  month  day  dayofweek  \\\n",
       "0 2024-09-01    200     Sunday  September  2024      9    1          6   \n",
       "1 2024-09-02    450     Monday  September  2024      9    2          0   \n",
       "2 2024-09-03    300    Tuesday  September  2024      9    3          1   \n",
       "3 2024-09-04    500  Wednesday  September  2024      9    4          2   \n",
       "4 2024-09-05    700   Thursday  September  2024      9    5          3   \n",
       "\n",
       "   dayofyear  quarter  is_leap_year formatted_date  \n",
       "0        245        3          True    01-Sep-2024  \n",
       "1        246        3          True    02-Sep-2024  \n",
       "2        247        3          True    03-Sep-2024  \n",
       "3        248        3          True    04-Sep-2024  \n",
       "4        249        3          True    05-Sep-2024  "
      ]
     },
     "execution_count": 53,
     "metadata": {},
     "output_type": "execute_result"
    }
   ],
   "source": [
    "# we can also add parts of the date as columns in the dataframe  w/o convering to DatetimeIndex Object\n",
    "# Sample data\n",
    "data = {\n",
    "    'days': ['2024-09-01', '2024-09-02', '2024-09-03', '2024-09-04', '2024-09-05'],\n",
    "    'sales': [200, 450, 300, 500, 700]\n",
    "}\n",
    "\n",
    "# Create DataFrame\n",
    "df = pd.DataFrame(data)\n",
    "\n",
    "# Convert 'days' column to datetime\n",
    "df['days'] = pd.to_datetime(df['days'])\n",
    "\n",
    "# Using various DatetimeIndex functions\n",
    "df['day_name'] = df['days'].dt.day_name()\n",
    "df['month_name'] = df['days'].dt.month_name()\n",
    "df['year'] = df['days'].dt.year\n",
    "df['month'] = df['days'].dt.month\n",
    "df['day'] = df['days'].dt.day\n",
    "df['dayofweek'] = df['days'].dt.dayofweek\n",
    "df['dayofyear'] = df['days'].dt.dayofyear\n",
    "df['quarter'] = df['days'].dt.quarter\n",
    "df['is_leap_year'] = df['days'].dt.is_leap_year\n",
    "df['formatted_date'] = df['days'].dt.strftime('%d-%b-%Y')\n",
    "\n",
    "# Display the DataFrame\n",
    "df"
   ]
  },
  {
   "cell_type": "markdown",
   "id": "752cda36-3ac5-4790-ad5d-d229c5ec323d",
   "metadata": {},
   "source": [
    "The `.dt` accessor in pandas is used to **access the datetime properties and methods of a Series containing datetime-like data**. When you have a pandas Series with datetime objects (like `datetime64[ns]`), the `.dt` accessor provides a convenient way to perform **vectorized datetime operations** directly on the Series.\n",
    "\n",
    "**What Does `.dt` Do?**\n",
    "- **Accesses Date and Time Components**: It allows you to extract specific components like the year, month, day, day of the week, hour, minute, etc., from each datetime object in the Series.\n",
    "\n",
    "- **Performs Vectorized Operations**: Instead of applying datetime methods one-by-one through a loop, .dt allows you to apply operations over an entire Series in a single, efficient step.\n",
    "\n",
    "- **Handles Datetime-Specific Methods**: .dt gives you access to datetime-specific methods, such as `strftime()`, `normalize()`, and `tz_localize()`, among others, which are designed specifically to work with datetime data.\n",
    "\n",
    "**Properties**:\n",
    "- year, month, day, hour, minute, second, microsecond, dayofweek (0=Monday, 6=Sunday), day_name(), is_month_start, is_month_end, is_year_start, is_year_end , is_leap_year, days_in_month\n",
    "\n",
    "**Methods:**\n",
    "\n",
    "- `strftime(format)`: Formats the datetime to a string based on a given format.\n",
    "- `normalize()`: Resets the time component to midnight.\n",
    "- `tz_localize(tz)`: Sets a timezone for the datetime.\n",
    "- `tz_convert(tz)`: Converts the time to a different timezone.\n",
    "- `floor(freq)`, `ceil(freq)`, `round(freq)`: Adjusts the datetime to the nearest given frequency (e.g., day, hour)."
   ]
  },
  {
   "cell_type": "markdown",
   "id": "caaf4e00-e4b5-4b9b-9429-645b45546598",
   "metadata": {},
   "source": [
    "# E. pd.Period Object \n",
    "\n",
    "`pd.Period` is a **pandas object used to represent a single time period, such as a specific month, day, or year.** Unlike a single datetime value, which represents an exact point in time (including both date and time), a Period represents a time span or interval (such as \"March 2024\" or \"2024 Q1\"). This makes it particularly useful when working with time series data where you are interested in periods rather than exact timestamps.\n",
    "\n",
    "**Key Features of `pd.Period`**\n",
    "- **Represents a Time Interval**: A Period object **represents a span of time**, such as a month, quarter, or year, rather than an exact timestamp. This is useful for data analysis focused on aggregated or period-based data (like monthly sales, quarterly revenues, etc.).\n",
    "\n",
    "- **Supports Different Frequencies**: You can specify the **frequency of the period**, such as daily (D), monthly (M), yearly (A or Y), and many others. This allows you to define what kind of period you are working with.\n",
    "\n",
    "- **Arithmetics and Operations**: You can **perform arithmetic operations (like addition and subtraction) with periods**. For example, you can add or subtract a number to a Period object to get a new period."
   ]
  },
  {
   "cell_type": "code",
   "execution_count": 32,
   "id": "f7ccc809-d17a-4487-aeb8-aeed27d554c1",
   "metadata": {},
   "outputs": [
    {
     "name": "stdout",
     "output_type": "stream",
     "text": [
      "2024-03\n",
      "2024\n",
      "2024Q1\n",
      "2024-04\n",
      "2023\n"
     ]
    }
   ],
   "source": [
    "# Create a Period object representing March 2024\n",
    "p1 = pd.Period('2024-03', freq='M')  # 'M' stands for monthly frequency\n",
    "print(p1)  # Output: 2024-03\n",
    "\n",
    "# Create a Period object representing the year 2024\n",
    "p2 = pd.Period('2024', freq='A')  # 'A' stands for annual frequency\n",
    "print(p2)  # Output: 2024\n",
    "\n",
    "# Create a Period object representing the first quarter of 2024\n",
    "p3 = pd.Period('2024Q1', freq='Q')  # 'Q' stands for quarterly frequency\n",
    "print(p3)  # Output: 2024Q1\n",
    "\n",
    "# Perform arithmetic operations\n",
    "next_month = p1 + 1  # Adds one month\n",
    "print(next_month)  # Output: 2024-04\n",
    "\n",
    "previous_year = p2 - 1  # Subtracts one year\n",
    "print(previous_year)  # Output: 2023"
   ]
  },
  {
   "cell_type": "markdown",
   "id": "06ca6925-3fcd-44e8-9efe-7ca426acb787",
   "metadata": {},
   "source": [
    "**Common Frequencies in `pd.Period`**\n",
    "Here are some of the common frequencies (freq) that you can use with `pd.Period`:\n",
    "\n",
    "- D: Day\n",
    "- M: Month-end\n",
    "- Q: Quarter-end\n",
    "- A: Year-end (Annual frequency)\n",
    "- H: Hour\n",
    "- T or min: Minute\n",
    "- S: Second\n",
    "- B: Business day\n",
    "\n",
    "**Usage with PeriodIndex**\n",
    "`pd.Period` objects are often used to create a PeriodIndex for a pandas DataFrame, which is particularly useful in time series analysis."
   ]
  },
  {
   "cell_type": "code",
   "execution_count": 33,
   "id": "4aff373c-561b-41ff-b3b6-00a24fba6749",
   "metadata": {},
   "outputs": [
    {
     "data": {
      "text/html": [
       "<div>\n",
       "<style scoped>\n",
       "    .dataframe tbody tr th:only-of-type {\n",
       "        vertical-align: middle;\n",
       "    }\n",
       "\n",
       "    .dataframe tbody tr th {\n",
       "        vertical-align: top;\n",
       "    }\n",
       "\n",
       "    .dataframe thead th {\n",
       "        text-align: right;\n",
       "    }\n",
       "</style>\n",
       "<table border=\"1\" class=\"dataframe\">\n",
       "  <thead>\n",
       "    <tr style=\"text-align: right;\">\n",
       "      <th></th>\n",
       "      <th>sales</th>\n",
       "    </tr>\n",
       "  </thead>\n",
       "  <tbody>\n",
       "    <tr>\n",
       "      <th>2024-01</th>\n",
       "      <td>200</td>\n",
       "    </tr>\n",
       "    <tr>\n",
       "      <th>2024-02</th>\n",
       "      <td>300</td>\n",
       "    </tr>\n",
       "    <tr>\n",
       "      <th>2024-03</th>\n",
       "      <td>400</td>\n",
       "    </tr>\n",
       "    <tr>\n",
       "      <th>2024-04</th>\n",
       "      <td>500</td>\n",
       "    </tr>\n",
       "    <tr>\n",
       "      <th>2024-05</th>\n",
       "      <td>600</td>\n",
       "    </tr>\n",
       "    <tr>\n",
       "      <th>2024-06</th>\n",
       "      <td>700</td>\n",
       "    </tr>\n",
       "  </tbody>\n",
       "</table>\n",
       "</div>"
      ],
      "text/plain": [
       "         sales\n",
       "2024-01    200\n",
       "2024-02    300\n",
       "2024-03    400\n",
       "2024-04    500\n",
       "2024-05    600\n",
       "2024-06    700"
      ]
     },
     "execution_count": 33,
     "metadata": {},
     "output_type": "execute_result"
    }
   ],
   "source": [
    "# Create a PeriodIndex for a DataFrame\n",
    "periods = pd.period_range(start='2024-01', end='2024-06', freq='M')  # Range of periods from January to June 2024\n",
    "data = pd.DataFrame({'sales': [200, 300, 400, 500, 600, 700]}, index=periods)\n",
    "data"
   ]
  },
  {
   "cell_type": "code",
   "execution_count": 34,
   "id": "02c3c9ed-333e-4d8f-8b49-c81427656de6",
   "metadata": {},
   "outputs": [
    {
     "data": {
      "text/plain": [
       "pandas.core.indexes.period.PeriodIndex"
      ]
     },
     "execution_count": 34,
     "metadata": {},
     "output_type": "execute_result"
    }
   ],
   "source": [
    "type(periods)"
   ]
  },
  {
   "cell_type": "markdown",
   "id": "ec1e97bd-d87f-411b-ae90-d651f07ba916",
   "metadata": {},
   "source": [
    "**Key Methods and Attributes of `pd.Period`**\n",
    "\n",
    "- start_time: The start time of the period.\n",
    "- end_time: The end time of the period.\n",
    "- freq: The frequency of the period.\n",
    "- strftime(format): Formats the period to a string representation according to the specified format.\n",
    "- asfreq(freq): Converts the period to the specified frequency."
   ]
  },
  {
   "cell_type": "code",
   "execution_count": 35,
   "id": "90785654-4cb2-44c0-88e4-7d7051bacc7f",
   "metadata": {},
   "outputs": [
    {
     "name": "stdout",
     "output_type": "stream",
     "text": [
      "2024-03-01 00:00:00\n",
      "2024-03-31 23:59:59.999999999\n",
      "2024-03-01\n",
      "2024-03-31\n"
     ]
    }
   ],
   "source": [
    "p = pd.Period('2024-03', freq='M')\n",
    "\n",
    "# Start and end time of the period\n",
    "print(p.start_time)  # Output: 2024-03-01 00:00:00\n",
    "print(p.end_time)    # Output: 2024-03-31 23:59:59.999999999\n",
    "\n",
    "# Convert to a different frequency\n",
    "print(p.asfreq('D', 'start'))  # Convert to daily frequency, start of the month\n",
    "# Output: 2024-03-01\n",
    "\n",
    "print(p.asfreq('D', 'end'))    # Convert to daily frequency, end of the month\n",
    "# Output: 2024-03-31"
   ]
  },
  {
   "cell_type": "code",
   "execution_count": 36,
   "id": "bb4c5fe6-b46e-4ca2-9b13-671f441236a5",
   "metadata": {},
   "outputs": [
    {
     "data": {
      "text/plain": [
       "PeriodIndex(['2024-01-01', '2024-02-01', '2024-03-01', '2024-04-01',\n",
       "             '2024-05-01', '2024-06-01'],\n",
       "            dtype='period[D]')"
      ]
     },
     "execution_count": 36,
     "metadata": {},
     "output_type": "execute_result"
    }
   ],
   "source": [
    "# apply the methods to the periodIndex object\n",
    "periods.asfreq('D', 'start')"
   ]
  },
  {
   "cell_type": "code",
   "execution_count": 72,
   "id": "ea1cc60d-c732-4ef3-9971-c8403b923e7f",
   "metadata": {},
   "outputs": [
    {
     "name": "stdout",
     "output_type": "stream",
     "text": [
      "2017-02-28\n"
     ]
    }
   ],
   "source": [
    "date = pd.Period('2017-01-31', freq='M', )\n",
    "date+=1\n",
    "print(date.asfreq('D', 'end'))"
   ]
  },
  {
   "cell_type": "markdown",
   "id": "4835055d-97e6-4669-89ac-9d45c604a924",
   "metadata": {},
   "source": [
    "**When to Use `pd.Period`?**\n",
    "- Use `pd.Period` when you need to represent time intervals, like months or quarters, rather than specific points in time. It's especially useful in financial, economic, or any analysis where time spans are more meaningful than specific timestamps."
   ]
  },
  {
   "cell_type": "markdown",
   "id": "21c46927-8c73-4f36-9651-bd574082662c",
   "metadata": {},
   "source": [
    "# F. pd.to_period \n",
    "`pd.to_period` is a **function used to convert datetime objects, Timestamp, or DatetimeIndex objects to Period objects with a specified frequency.** It converts each datetime value in a Series or DataFrame to a Period, which represents a time span.\n",
    "\n",
    "- Usage\n",
    ">The function `pd.to_period` is primarily used when you want to convert datetime-like data to period data, such as converting daily data to monthly data.\n",
    "\n",
    "**Example of `pd.to_period`**\n",
    "\n",
    "Here's how to use `pd.to_period` to convert datetime data to periods:"
   ]
  },
  {
   "cell_type": "code",
   "execution_count": 37,
   "id": "561b97c3-7826-4003-b19b-02f2f4276e00",
   "metadata": {},
   "outputs": [
    {
     "name": "stdout",
     "output_type": "stream",
     "text": [
      "2024-08-09 00:00:00\n",
      "<class 'pandas._libs.tslibs.timestamps.Timestamp'>\n",
      "2024-08\n",
      "<class 'pandas._libs.tslibs.period.Period'>\n"
     ]
    }
   ],
   "source": [
    "# to_period converts a Timestamp object to a Period object\n",
    "date_timestamp = pd.Timestamp(2024,8,9)\n",
    "print(date_timestamp)\n",
    "print(type(date_timestamp))\n",
    "\n",
    "date_period = date_timestamp.to_period('M')\n",
    "print(date_period)\n",
    "print(type(date_period))"
   ]
  },
  {
   "cell_type": "code",
   "execution_count": 43,
   "id": "da8c4b53-754f-4ddb-8d07-450131336bb8",
   "metadata": {},
   "outputs": [
    {
     "name": "stdout",
     "output_type": "stream",
     "text": [
      "DatetimeIndex(['2024-10-02', '2024-10-03', '2024-10-04', '2024-10-05',\n",
      "               '2024-10-06', '2024-10-07', '2024-10-08', '2024-10-09',\n",
      "               '2024-10-10'],\n",
      "              dtype='datetime64[ns]', freq='D')\n",
      "<class 'pandas.core.indexes.datetimes.DatetimeIndex'>\n",
      "PeriodIndex(['2024-10', '2024-10', '2024-10', '2024-10', '2024-10', '2024-10',\n",
      "             '2024-10', '2024-10', '2024-10'],\n",
      "            dtype='period[M]')\n",
      "<class 'pandas.core.indexes.period.PeriodIndex'>\n"
     ]
    }
   ],
   "source": [
    "date_range =  pd.date_range(start=pd.Timestamp(2024,10,2),\n",
    "                            end=pd.Timestamp(2024,10,10))\n",
    "print(date_range)\n",
    "print(type(date_range))\n",
    "\n",
    "period_range = date_range.to_period('M')\n",
    "print(period_range)\n",
    "print(type(period_range))"
   ]
  },
  {
   "cell_type": "code",
   "execution_count": 44,
   "id": "5a745712-6df9-485f-903f-fca9d293ef55",
   "metadata": {},
   "outputs": [
    {
     "data": {
      "text/html": [
       "<div>\n",
       "<style scoped>\n",
       "    .dataframe tbody tr th:only-of-type {\n",
       "        vertical-align: middle;\n",
       "    }\n",
       "\n",
       "    .dataframe tbody tr th {\n",
       "        vertical-align: top;\n",
       "    }\n",
       "\n",
       "    .dataframe thead th {\n",
       "        text-align: right;\n",
       "    }\n",
       "</style>\n",
       "<table border=\"1\" class=\"dataframe\">\n",
       "  <thead>\n",
       "    <tr style=\"text-align: right;\">\n",
       "      <th></th>\n",
       "      <th>date</th>\n",
       "      <th>period_month</th>\n",
       "      <th>period_next_month</th>\n",
       "      <th>period_year</th>\n",
       "    </tr>\n",
       "  </thead>\n",
       "  <tbody>\n",
       "    <tr>\n",
       "      <th>0</th>\n",
       "      <td>2024-09-01</td>\n",
       "      <td>2024-09</td>\n",
       "      <td>2024-10</td>\n",
       "      <td>2024</td>\n",
       "    </tr>\n",
       "    <tr>\n",
       "      <th>1</th>\n",
       "      <td>2024-09-02</td>\n",
       "      <td>2024-09</td>\n",
       "      <td>2024-10</td>\n",
       "      <td>2024</td>\n",
       "    </tr>\n",
       "    <tr>\n",
       "      <th>2</th>\n",
       "      <td>2024-09-03</td>\n",
       "      <td>2024-09</td>\n",
       "      <td>2024-10</td>\n",
       "      <td>2024</td>\n",
       "    </tr>\n",
       "    <tr>\n",
       "      <th>3</th>\n",
       "      <td>2024-09-04</td>\n",
       "      <td>2024-09</td>\n",
       "      <td>2024-10</td>\n",
       "      <td>2024</td>\n",
       "    </tr>\n",
       "    <tr>\n",
       "      <th>4</th>\n",
       "      <td>2024-09-05</td>\n",
       "      <td>2024-09</td>\n",
       "      <td>2024-10</td>\n",
       "      <td>2024</td>\n",
       "    </tr>\n",
       "  </tbody>\n",
       "</table>\n",
       "</div>"
      ],
      "text/plain": [
       "        date period_month period_next_month period_year\n",
       "0 2024-09-01      2024-09           2024-10        2024\n",
       "1 2024-09-02      2024-09           2024-10        2024\n",
       "2 2024-09-03      2024-09           2024-10        2024\n",
       "3 2024-09-04      2024-09           2024-10        2024\n",
       "4 2024-09-05      2024-09           2024-10        2024"
      ]
     },
     "execution_count": 44,
     "metadata": {},
     "output_type": "execute_result"
    }
   ],
   "source": [
    "# Create a DataFrame with a datetime column\n",
    "data = {\n",
    "    'date': ['2024-09-01', '2024-09-02', '2024-09-03', '2024-09-04', '2024-09-05']\n",
    "}\n",
    "df = pd.DataFrame(data)\n",
    "\n",
    "# Convert the 'date' column to datetime\n",
    "df['date'] = pd.to_datetime(df['date'])\n",
    "\n",
    "# Convert datetime to period with monthly frequency\n",
    "df['period_month'] = df['date'].dt.to_period('M')  # Convert to monthly periods\n",
    "df['period_next_month'] = df['period_month']+1\n",
    "\n",
    "# Convert datetime to period with yearly frequency\n",
    "df['period_year'] = df['date'].dt.to_period('A')  # Convert to annual periods\n",
    "\n",
    "df"
   ]
  },
  {
   "cell_type": "markdown",
   "id": "f21e8b89-c280-4365-9c42-8594bd1617d3",
   "metadata": {},
   "source": [
    "**Key Points of `pd.to_period`**\n",
    "\n",
    "- Converts datetime-like data to period data, where each period represents a specific span of time.\n",
    "- Supports various frequencies (freq), such as 'D' (daily), 'M' (monthly), 'Q' (quarterly), 'A' (annually), etc.\n",
    "- Allows easy conversion from a datetime format to a period format.\n",
    "\n",
    "**pd.PeriodIndex**\n",
    "\n",
    "`pd.PeriodIndex` is a **pandas index that is used to store and handle a sequence of Period objects, which are time spans rather than specific points in time**. It is similar to DatetimeIndex but represents periods instead of exact timestamps.\n",
    "\n",
    "- Usage\n",
    "> `PeriodIndex` is used when you want the index of a pandas DataFrame or Series to represent periods (like months, quarters, or years) rather than specific datetime values.\n",
    "\n",
    "Example of `pd.PeriodIndex`\n",
    "\n",
    "Here's an example showing how to create a PeriodIndex:"
   ]
  },
  {
   "cell_type": "code",
   "execution_count": 45,
   "id": "44a3f9d3-ee6c-47fc-88fc-226a8626ed4b",
   "metadata": {},
   "outputs": [
    {
     "data": {
      "text/html": [
       "<div>\n",
       "<style scoped>\n",
       "    .dataframe tbody tr th:only-of-type {\n",
       "        vertical-align: middle;\n",
       "    }\n",
       "\n",
       "    .dataframe tbody tr th {\n",
       "        vertical-align: top;\n",
       "    }\n",
       "\n",
       "    .dataframe thead th {\n",
       "        text-align: right;\n",
       "    }\n",
       "</style>\n",
       "<table border=\"1\" class=\"dataframe\">\n",
       "  <thead>\n",
       "    <tr style=\"text-align: right;\">\n",
       "      <th></th>\n",
       "      <th>sales</th>\n",
       "    </tr>\n",
       "    <tr>\n",
       "      <th>Month</th>\n",
       "      <th></th>\n",
       "    </tr>\n",
       "  </thead>\n",
       "  <tbody>\n",
       "    <tr>\n",
       "      <th>2024-01</th>\n",
       "      <td>200</td>\n",
       "    </tr>\n",
       "    <tr>\n",
       "      <th>2024-02</th>\n",
       "      <td>300</td>\n",
       "    </tr>\n",
       "    <tr>\n",
       "      <th>2024-03</th>\n",
       "      <td>400</td>\n",
       "    </tr>\n",
       "    <tr>\n",
       "      <th>2024-04</th>\n",
       "      <td>500</td>\n",
       "    </tr>\n",
       "    <tr>\n",
       "      <th>2024-05</th>\n",
       "      <td>600</td>\n",
       "    </tr>\n",
       "    <tr>\n",
       "      <th>2024-06</th>\n",
       "      <td>700</td>\n",
       "    </tr>\n",
       "  </tbody>\n",
       "</table>\n",
       "</div>"
      ],
      "text/plain": [
       "         sales\n",
       "Month         \n",
       "2024-01    200\n",
       "2024-02    300\n",
       "2024-03    400\n",
       "2024-04    500\n",
       "2024-05    600\n",
       "2024-06    700"
      ]
     },
     "execution_count": 45,
     "metadata": {},
     "output_type": "execute_result"
    }
   ],
   "source": [
    "# Create a PeriodIndex representing months from January to June 2024\n",
    "period_index = pd.period_range(start='2024-01', end='2024-06', freq='M')\n",
    "\n",
    "# Create a DataFrame using the PeriodIndex\n",
    "df = pd.DataFrame({'sales': [200, 300, 400, 500, 600, 700]}, index=period_index)\n",
    "\n",
    "# Set the index name\n",
    "df.index.name = 'Month'\n",
    "\n",
    "df"
   ]
  },
  {
   "cell_type": "code",
   "execution_count": 59,
   "id": "3c23220d-f61b-4b3b-9deb-9dbd6c46a522",
   "metadata": {},
   "outputs": [
    {
     "data": {
      "text/html": [
       "<div>\n",
       "<style scoped>\n",
       "    .dataframe tbody tr th:only-of-type {\n",
       "        vertical-align: middle;\n",
       "    }\n",
       "\n",
       "    .dataframe tbody tr th {\n",
       "        vertical-align: top;\n",
       "    }\n",
       "\n",
       "    .dataframe thead th {\n",
       "        text-align: right;\n",
       "    }\n",
       "</style>\n",
       "<table border=\"1\" class=\"dataframe\">\n",
       "  <thead>\n",
       "    <tr style=\"text-align: right;\">\n",
       "      <th></th>\n",
       "      <th>sales</th>\n",
       "    </tr>\n",
       "    <tr>\n",
       "      <th>date</th>\n",
       "      <th></th>\n",
       "    </tr>\n",
       "  </thead>\n",
       "  <tbody>\n",
       "    <tr>\n",
       "      <th>2024-01</th>\n",
       "      <td>100</td>\n",
       "    </tr>\n",
       "    <tr>\n",
       "      <th>2024-02</th>\n",
       "      <td>200</td>\n",
       "    </tr>\n",
       "    <tr>\n",
       "      <th>2024-03</th>\n",
       "      <td>300</td>\n",
       "    </tr>\n",
       "    <tr>\n",
       "      <th>2024-04</th>\n",
       "      <td>400</td>\n",
       "    </tr>\n",
       "    <tr>\n",
       "      <th>2024-05</th>\n",
       "      <td>500</td>\n",
       "    </tr>\n",
       "  </tbody>\n",
       "</table>\n",
       "</div>"
      ],
      "text/plain": [
       "         sales\n",
       "date          \n",
       "2024-01    100\n",
       "2024-02    200\n",
       "2024-03    300\n",
       "2024-04    400\n",
       "2024-05    500"
      ]
     },
     "execution_count": 59,
     "metadata": {},
     "output_type": "execute_result"
    }
   ],
   "source": [
    "# Let's use both pd.to_period and pd.PeriodIndex together\n",
    "\n",
    "# Create a DataFrame with a datetime column\n",
    "data = {\n",
    "    'date': ['2024-01-01', '2024-02-01', '2024-03-01', '2024-04-01', '2024-05-01'],\n",
    "    'sales':[100,200,300,400,500]\n",
    "}\n",
    "df = pd.DataFrame(data)\n",
    "\n",
    "# Convert the 'date' column to datetime and then convert it to period with freq set as month\n",
    "df['date'] = pd.to_datetime(df['date'])\n",
    "df['date'] = df['date'].dt.to_period('M')\n",
    "\n",
    "# # Create a PeriodIndex from the period column\n",
    "# period_index = pd.PeriodIndex(df['date'], freq='M')\n",
    "\n",
    "# Set the PeriodIndex as the DataFrame's index\n",
    "df.set_index('date', inplace=True)\n",
    "\n",
    "df"
   ]
  },
  {
   "cell_type": "code",
   "execution_count": 57,
   "id": "b1912946-58e4-4927-805c-564a981e72b8",
   "metadata": {},
   "outputs": [
    {
     "data": {
      "text/plain": [
       "pandas.core.indexes.period.PeriodIndex"
      ]
     },
     "execution_count": 57,
     "metadata": {},
     "output_type": "execute_result"
    }
   ],
   "source": [
    "type(df.index)"
   ]
  },
  {
   "cell_type": "markdown",
   "id": "3b1b4b36-4a1b-4b74-add0-35b61659561d",
   "metadata": {},
   "source": [
    "# G. pd.to_timestamp\n",
    "`pd.to_timestamp` is a **method in pandas used to convert period data (Period or PeriodIndex) to timestamp data (Timestamp or DatetimeIndex).** This method is particularly useful when you need to convert a period (like a specific month or quarter) to a point in time that represents a specific start or end of that period (like the first day of the month or quarter).\n",
    "\n",
    "- Usage of `pd.to_timestamp`\n",
    ">This method is primarily used when you want to transform period-based data (e.g., quarterly or monthly data) into specific timestamps, often for more granular time series analysis or when you need exact date representations rather than period intervals.\n",
    "\n",
    "Example of `pd.to_timestamp`\n",
    "\n",
    "Let's see how to use pd.to_timestamp to convert period data to timestamps:"
   ]
  },
  {
   "cell_type": "code",
   "execution_count": 64,
   "id": "f77931af-82e3-4020-8001-bfd961f23bc9",
   "metadata": {},
   "outputs": [
    {
     "name": "stdout",
     "output_type": "stream",
     "text": [
      "PeriodIndex(['2024-01', '2024-02', '2024-03', '2024-04', '2024-05', '2024-06'], dtype='period[M]')\n",
      "<class 'pandas.core.indexes.period.PeriodIndex'>\n",
      "DatetimeIndex(['2024-01-01', '2024-02-01', '2024-03-01', '2024-04-01',\n",
      "               '2024-05-01', '2024-06-01'],\n",
      "              dtype='datetime64[ns]', freq='MS')\n",
      "<class 'pandas.core.indexes.datetimes.DatetimeIndex'>\n",
      "<class 'pandas._libs.tslibs.timestamps.Timestamp'>\n"
     ]
    }
   ],
   "source": [
    "# Create a PeriodIndex representing months\n",
    "period_index = pd.period_range(start='2024-01', end='2024-06', freq='M')\n",
    "print(period_index)\n",
    "print(type(period_index))\n",
    "\n",
    "datetime_index = period_index.to_timestamp(how='start')\n",
    "print(datetime_index)\n",
    "print(type(datetime_index))\n",
    "print(type(datetime_index[0]))"
   ]
  },
  {
   "cell_type": "code",
   "execution_count": 60,
   "id": "44799dbb-d167-41fe-85eb-16feb219647d",
   "metadata": {},
   "outputs": [
    {
     "data": {
      "text/html": [
       "<div>\n",
       "<style scoped>\n",
       "    .dataframe tbody tr th:only-of-type {\n",
       "        vertical-align: middle;\n",
       "    }\n",
       "\n",
       "    .dataframe tbody tr th {\n",
       "        vertical-align: top;\n",
       "    }\n",
       "\n",
       "    .dataframe thead th {\n",
       "        text-align: right;\n",
       "    }\n",
       "</style>\n",
       "<table border=\"1\" class=\"dataframe\">\n",
       "  <thead>\n",
       "    <tr style=\"text-align: right;\">\n",
       "      <th></th>\n",
       "      <th>sales</th>\n",
       "    </tr>\n",
       "  </thead>\n",
       "  <tbody>\n",
       "    <tr>\n",
       "      <th>2024-01-01</th>\n",
       "      <td>200</td>\n",
       "    </tr>\n",
       "    <tr>\n",
       "      <th>2024-02-01</th>\n",
       "      <td>300</td>\n",
       "    </tr>\n",
       "    <tr>\n",
       "      <th>2024-03-01</th>\n",
       "      <td>400</td>\n",
       "    </tr>\n",
       "    <tr>\n",
       "      <th>2024-04-01</th>\n",
       "      <td>500</td>\n",
       "    </tr>\n",
       "    <tr>\n",
       "      <th>2024-05-01</th>\n",
       "      <td>600</td>\n",
       "    </tr>\n",
       "    <tr>\n",
       "      <th>2024-06-01</th>\n",
       "      <td>700</td>\n",
       "    </tr>\n",
       "  </tbody>\n",
       "</table>\n",
       "</div>"
      ],
      "text/plain": [
       "            sales\n",
       "2024-01-01    200\n",
       "2024-02-01    300\n",
       "2024-03-01    400\n",
       "2024-04-01    500\n",
       "2024-05-01    600\n",
       "2024-06-01    700"
      ]
     },
     "execution_count": 60,
     "metadata": {},
     "output_type": "execute_result"
    }
   ],
   "source": [
    "# Create a PeriodIndex representing months\n",
    "period_index = pd.period_range(start='2024-01', end='2024-06', freq='M')\n",
    "\n",
    "# Convert PeriodIndex to a DataFrame\n",
    "df = pd.DataFrame({'sales': [200, 300, 400, 500, 600, 700]}, index=period_index)\n",
    "\n",
    "# Convert the PeriodIndex to Timestamp (default: start of the period)\n",
    "df.index = df.index.to_timestamp()\n",
    "\n",
    "df"
   ]
  },
  {
   "cell_type": "markdown",
   "id": "37c29f29-b4d0-41ba-ad46-41223fbbb148",
   "metadata": {},
   "source": [
    "**Parameters of `pd.to_timestamp`**\n",
    "- freq: String, optional. The frequency of the output timestamps. Defaults to the start frequency of the period ('S').\n",
    "- how: String, optional. Can be 'S' (start) or 'E' (end). It determines whether to convert to the start or end of the period.\n",
    "- axis: Integer, default 0. The axis to convert (only applies to DataFrames).\n",
    "\n",
    "**Converting to the End of the Period**\n",
    "\n",
    "You can specify whether to convert to the start or the end of the period using the how parameter:"
   ]
  },
  {
   "cell_type": "code",
   "execution_count": 78,
   "id": "363b7c18-d096-49d1-8cc5-75a6eb3530d7",
   "metadata": {},
   "outputs": [
    {
     "data": {
      "text/html": [
       "<div>\n",
       "<style scoped>\n",
       "    .dataframe tbody tr th:only-of-type {\n",
       "        vertical-align: middle;\n",
       "    }\n",
       "\n",
       "    .dataframe tbody tr th {\n",
       "        vertical-align: top;\n",
       "    }\n",
       "\n",
       "    .dataframe thead th {\n",
       "        text-align: right;\n",
       "    }\n",
       "</style>\n",
       "<table border=\"1\" class=\"dataframe\">\n",
       "  <thead>\n",
       "    <tr style=\"text-align: right;\">\n",
       "      <th></th>\n",
       "      <th>sales</th>\n",
       "    </tr>\n",
       "  </thead>\n",
       "  <tbody>\n",
       "    <tr>\n",
       "      <th>2024-01-31 23:59:59.999999999</th>\n",
       "      <td>200</td>\n",
       "    </tr>\n",
       "    <tr>\n",
       "      <th>2024-02-29 23:59:59.999999999</th>\n",
       "      <td>300</td>\n",
       "    </tr>\n",
       "    <tr>\n",
       "      <th>2024-03-31 23:59:59.999999999</th>\n",
       "      <td>400</td>\n",
       "    </tr>\n",
       "    <tr>\n",
       "      <th>2024-04-30 23:59:59.999999999</th>\n",
       "      <td>500</td>\n",
       "    </tr>\n",
       "    <tr>\n",
       "      <th>2024-05-31 23:59:59.999999999</th>\n",
       "      <td>600</td>\n",
       "    </tr>\n",
       "    <tr>\n",
       "      <th>2024-06-30 23:59:59.999999999</th>\n",
       "      <td>700</td>\n",
       "    </tr>\n",
       "  </tbody>\n",
       "</table>\n",
       "</div>"
      ],
      "text/plain": [
       "                               sales\n",
       "2024-01-31 23:59:59.999999999    200\n",
       "2024-02-29 23:59:59.999999999    300\n",
       "2024-03-31 23:59:59.999999999    400\n",
       "2024-04-30 23:59:59.999999999    500\n",
       "2024-05-31 23:59:59.999999999    600\n",
       "2024-06-30 23:59:59.999999999    700"
      ]
     },
     "execution_count": 78,
     "metadata": {},
     "output_type": "execute_result"
    }
   ],
   "source": [
    "# Create a PeriodIndex representing months\n",
    "period_index = pd.period_range(start='2024-01', end='2024-06', freq='M')\n",
    "\n",
    "# Convert PeriodIndex to a DataFrame\n",
    "df = pd.DataFrame({'sales': [200, 300, 400, 500, 600, 700]}, index=period_index)\n",
    "\n",
    "# Convert to Timestamps at the end of each month\n",
    "df.index = df.index.to_timestamp(how='E')\n",
    "df"
   ]
  },
  {
   "cell_type": "code",
   "execution_count": 79,
   "id": "c9a4493c-923b-41f9-8cad-c56623418b41",
   "metadata": {},
   "outputs": [
    {
     "data": {
      "text/plain": [
       "pandas.core.indexes.datetimes.DatetimeIndex"
      ]
     },
     "execution_count": 79,
     "metadata": {},
     "output_type": "execute_result"
    }
   ],
   "source": [
    "type(df.index)"
   ]
  },
  {
   "cell_type": "markdown",
   "id": "cdad816e-7444-4425-bcd1-f923470d2fc1",
   "metadata": {},
   "source": [
    "**Key Points of `pd.to_timestamp`**\n",
    "\n",
    "- Converts Period to Timestamp: pd.to_timestamp is used to convert a period (like a month, quarter, or year) to a specific timestamp.\n",
    "- Supports Different Frequencies: You can specify the frequency (such as 'D', 'M', 'Q') and the exact point in time (start or end of the period).\n",
    "- Versatile in Time Series Analysis: Useful when moving from period-based data to exact time-based data for detailed analysis.\n",
    "\n",
    "**Example of Using `pd.to_timestamp` with Different Frequencies**\n",
    "\n",
    "Here’s another example to show how you can use pd.to_timestamp with various frequencies:"
   ]
  },
  {
   "cell_type": "code",
   "execution_count": 81,
   "id": "ae311dd2-490c-49c8-80c1-8bf9f638ed1c",
   "metadata": {},
   "outputs": [
    {
     "data": {
      "text/html": [
       "<div>\n",
       "<style scoped>\n",
       "    .dataframe tbody tr th:only-of-type {\n",
       "        vertical-align: middle;\n",
       "    }\n",
       "\n",
       "    .dataframe tbody tr th {\n",
       "        vertical-align: top;\n",
       "    }\n",
       "\n",
       "    .dataframe thead th {\n",
       "        text-align: right;\n",
       "    }\n",
       "</style>\n",
       "<table border=\"1\" class=\"dataframe\">\n",
       "  <thead>\n",
       "    <tr style=\"text-align: right;\">\n",
       "      <th></th>\n",
       "      <th>revenue</th>\n",
       "    </tr>\n",
       "  </thead>\n",
       "  <tbody>\n",
       "    <tr>\n",
       "      <th>2024-01-01</th>\n",
       "      <td>1000</td>\n",
       "    </tr>\n",
       "    <tr>\n",
       "      <th>2024-04-01</th>\n",
       "      <td>1500</td>\n",
       "    </tr>\n",
       "    <tr>\n",
       "      <th>2024-07-01</th>\n",
       "      <td>1200</td>\n",
       "    </tr>\n",
       "    <tr>\n",
       "      <th>2024-10-01</th>\n",
       "      <td>1800</td>\n",
       "    </tr>\n",
       "  </tbody>\n",
       "</table>\n",
       "</div>"
      ],
      "text/plain": [
       "            revenue\n",
       "2024-01-01     1000\n",
       "2024-04-01     1500\n",
       "2024-07-01     1200\n",
       "2024-10-01     1800"
      ]
     },
     "execution_count": 81,
     "metadata": {},
     "output_type": "execute_result"
    }
   ],
   "source": [
    "# Create a DataFrame with quarterly periods\n",
    "period_index = pd.period_range(start='2024Q1', end='2024Q4', freq='Q')\n",
    "\n",
    "# Convert PeriodIndex to a DataFrame\n",
    "df = pd.DataFrame({'revenue': [1000, 1500, 1200, 1800]}, index=period_index)\n",
    "\n",
    "# Convert the PeriodIndex to Timestamp at the end of each quarter\n",
    "df.index = df.index.to_timestamp(how='S')\n",
    "\n",
    "df"
   ]
  },
  {
   "cell_type": "code",
   "execution_count": 82,
   "id": "47bec0ad-0e06-4c0e-903d-77b308ed0f5c",
   "metadata": {},
   "outputs": [
    {
     "data": {
      "text/html": [
       "<div>\n",
       "<style scoped>\n",
       "    .dataframe tbody tr th:only-of-type {\n",
       "        vertical-align: middle;\n",
       "    }\n",
       "\n",
       "    .dataframe tbody tr th {\n",
       "        vertical-align: top;\n",
       "    }\n",
       "\n",
       "    .dataframe thead th {\n",
       "        text-align: right;\n",
       "    }\n",
       "</style>\n",
       "<table border=\"1\" class=\"dataframe\">\n",
       "  <thead>\n",
       "    <tr style=\"text-align: right;\">\n",
       "      <th></th>\n",
       "      <th>revenue</th>\n",
       "    </tr>\n",
       "  </thead>\n",
       "  <tbody>\n",
       "    <tr>\n",
       "      <th>2024-03-31 23:59:59.999999999</th>\n",
       "      <td>1000</td>\n",
       "    </tr>\n",
       "    <tr>\n",
       "      <th>2024-06-30 23:59:59.999999999</th>\n",
       "      <td>1500</td>\n",
       "    </tr>\n",
       "    <tr>\n",
       "      <th>2024-09-30 23:59:59.999999999</th>\n",
       "      <td>1200</td>\n",
       "    </tr>\n",
       "    <tr>\n",
       "      <th>2024-12-31 23:59:59.999999999</th>\n",
       "      <td>1800</td>\n",
       "    </tr>\n",
       "  </tbody>\n",
       "</table>\n",
       "</div>"
      ],
      "text/plain": [
       "                               revenue\n",
       "2024-03-31 23:59:59.999999999     1000\n",
       "2024-06-30 23:59:59.999999999     1500\n",
       "2024-09-30 23:59:59.999999999     1200\n",
       "2024-12-31 23:59:59.999999999     1800"
      ]
     },
     "execution_count": 82,
     "metadata": {},
     "output_type": "execute_result"
    }
   ],
   "source": [
    "# Create a DataFrame with quarterly periods\n",
    "period_index = pd.period_range(start='2024Q1', end='2024Q4', freq='Q')\n",
    "\n",
    "# Convert PeriodIndex to a DataFrame\n",
    "df = pd.DataFrame({'revenue': [1000, 1500, 1200, 1800]}, index=period_index)\n",
    "\n",
    "# Convert the PeriodIndex to Timestamp at the end of each quarter\n",
    "df.index = df.index.to_timestamp(how='E')\n",
    "\n",
    "df"
   ]
  },
  {
   "cell_type": "markdown",
   "id": "73ab2899-feae-4af1-b925-919e1bbd3dd8",
   "metadata": {},
   "source": [
    "# H. timedelta in Python\n",
    "\n",
    "`timedelta` is a class in Python's `datetime` module used for representing differences between two dates or times. It represents the duration or difference between two points in time, which can include days, seconds, and microseconds. You can use timedelta to add, subtract, or compare date and time objects.\n",
    "\n",
    "timedelta Constructor\n",
    "The timedelta object can be created using the datetime.timedelta() constructor, which takes the following optional arguments:\n",
    "\n",
    "python\n",
    "Copy code\n",
    "datetime.timedelta(days=0, seconds=0, microseconds=0, milliseconds=0, minutes=0, hours=0, weeks=0)\n",
    "Each of these arguments represents a particular unit of time and can be positive or negative."
   ]
  },
  {
   "cell_type": "code",
   "execution_count": 23,
   "id": "6357733c-0134-4fb6-a34e-6d1b0ccd5ad4",
   "metadata": {},
   "outputs": [
    {
     "name": "stdout",
     "output_type": "stream",
     "text": [
      "Timedelta from string: 2 days 05:30:00\n",
      "Timedelta with keyword arguments: 2 days 05:30:00\n",
      "Timedelta in seconds: 0 days 01:23:20\n",
      "Adding Timedelta to Timestamp: 2024-10-06 16:00:00\n",
      "Subtracting Timedelta from Timestamp: 2024-10-02 22:00:00\n",
      "Difference between Timestamps: 4 days 00:00:00\n",
      "Total seconds in Timedelta: 108000.0\n",
      "\n",
      "DataFrame with calculated durations:\n",
      "       start        end duration\n",
      "0 2024-09-30 2024-10-02   2 days\n",
      "1 2024-10-01 2024-10-05   4 days\n",
      "2 2024-10-02 2024-10-04   2 days\n",
      "Days: 1\n",
      "Seconds: 20700\n",
      "Microseconds: 0\n",
      "Total duration in seconds: 107100.0\n"
     ]
    }
   ],
   "source": [
    "# Example 1: Creating a Timedelta using a string format\n",
    "# Represents a duration of 2 days, 5 hours, and 30 minutes\n",
    "td1 = pd.Timedelta(\"2 days 5 hours 30 minutes\")\n",
    "print(\"Timedelta from string:\", td1)\n",
    "\n",
    "# Example 2: Creating a Timedelta with keyword arguments\n",
    "# Represents 2 days, 5 hours, and 30 minutes as separate arguments\n",
    "td2 = pd.Timedelta(days=2, hours=5, minutes=30)\n",
    "print(\"Timedelta with keyword arguments:\", td2)\n",
    "\n",
    "# Example 3: Creating a Timedelta in seconds\n",
    "# Represents a duration of 5000 seconds\n",
    "td3 = pd.Timedelta(seconds=5000)\n",
    "print(\"Timedelta in seconds:\", td3)\n",
    "\n",
    "# Example 4: Adding Timedelta to a Timestamp\n",
    "# Define a starting Timestamp\n",
    "start_time = pd.Timestamp(\"2024-10-03 10:00:00\")\n",
    "# Add 3 days and 6 hours\n",
    "new_time = start_time + pd.Timedelta(days=3, hours=6)\n",
    "print(\"Adding Timedelta to Timestamp:\", new_time)\n",
    "\n",
    "# Example 5: Subtracting Timedelta from a Timestamp\n",
    "# Subtract 12 hours from the start_time\n",
    "past_time = start_time - pd.Timedelta(hours=12)\n",
    "print(\"Subtracting Timedelta from Timestamp:\", past_time)\n",
    "\n",
    "# Example 6: Finding difference between two Timestamps\n",
    "# Define two Timestamps\n",
    "ts1 = pd.Timestamp(\"2024-10-01\")\n",
    "ts2 = pd.Timestamp(\"2024-10-05\")\n",
    "# Subtract to get Timedelta (time difference)\n",
    "time_diff = ts2 - ts1\n",
    "print(\"Difference between Timestamps:\", time_diff)\n",
    "\n",
    "# Example 7: Timedelta unit conversions\n",
    "# Define a Timedelta\n",
    "td4 = pd.Timedelta(days=1, hours=6)\n",
    "# Convert to total seconds\n",
    "total_seconds = td4.total_seconds()\n",
    "print(\"Total seconds in Timedelta:\", total_seconds)\n",
    "\n",
    "# Example 8: Using Timedelta in a DataFrame\n",
    "# Create a DataFrame with start and end dates\n",
    "data = {\n",
    "    \"start\": pd.to_datetime([\"2024-09-30\", \"2024-10-01\", \"2024-10-02\"]),\n",
    "    \"end\": pd.to_datetime([\"2024-10-02\", \"2024-10-05\", \"2024-10-04\"])\n",
    "}\n",
    "df = pd.DataFrame(data)\n",
    "# Calculate duration by subtracting start from end\n",
    "df[\"duration\"] = df[\"end\"] - df[\"start\"]\n",
    "print(\"\\nDataFrame with calculated durations:\")\n",
    "print(df)\n",
    "\n",
    "# Example 9: Timedelta properties\n",
    "# Define a Timedelta\n",
    "td5 = pd.Timedelta(days=1, hours=5, minutes=45)\n",
    "# Access properties like days, seconds, and microseconds\n",
    "print(\"Days:\", td5.days)               # Total days in the Timedelta\n",
    "print(\"Seconds:\", td5.seconds)         # Seconds portion, excluding days\n",
    "print(\"Microseconds:\", td5.microseconds)  # Microseconds portion\n",
    "\n",
    "# Example 10: Total duration in seconds\n",
    "# Get total duration in seconds for td5\n",
    "print(\"Total duration in seconds:\", td5.total_seconds())"
   ]
  }
 ],
 "metadata": {
  "kernelspec": {
   "display_name": "Python 3",
   "language": "python",
   "name": "python3"
  },
  "language_info": {
   "codemirror_mode": {
    "name": "ipython",
    "version": 3
   },
   "file_extension": ".py",
   "mimetype": "text/x-python",
   "name": "python",
   "nbconvert_exporter": "python",
   "pygments_lexer": "ipython3",
   "version": "3.10.15"
  }
 },
 "nbformat": 4,
 "nbformat_minor": 5
}
